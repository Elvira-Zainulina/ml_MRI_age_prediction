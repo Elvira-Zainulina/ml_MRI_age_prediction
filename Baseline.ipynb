{
  "nbformat": 4,
  "nbformat_minor": 0,
  "metadata": {
    "colab": {
      "name": "Baseline.ipynb",
      "provenance": [],
      "collapsed_sections": [],
      "machine_shape": "hm",
      "include_colab_link": true
    },
    "kernelspec": {
      "name": "python3",
      "display_name": "Python 3"
    },
    "accelerator": "GPU"
  },
  "cells": [
    {
      "cell_type": "markdown",
      "metadata": {
        "id": "view-in-github",
        "colab_type": "text"
      },
      "source": [
        "<a href=\"https://colab.research.google.com/github/Elvira-Zainulina/ml_MRI_age_prediction/blob/master/Baseline.ipynb\" target=\"_parent\"><img src=\"https://colab.research.google.com/assets/colab-badge.svg\" alt=\"Open In Colab\"/></a>"
      ]
    },
    {
      "cell_type": "code",
      "metadata": {
        "id": "OoDKPB2ZFqOT",
        "colab_type": "code",
        "outputId": "8b81a889-45d8-42ff-bd41-31493b30e315",
        "colab": {
          "base_uri": "https://localhost:8080/",
          "height": 34
        }
      },
      "source": [
        "from google.colab import drive\n",
        "drive.mount('/content/drive')"
      ],
      "execution_count": 0,
      "outputs": [
        {
          "output_type": "stream",
          "text": [
            "Drive already mounted at /content/drive; to attempt to forcibly remount, call drive.mount(\"/content/drive\", force_remount=True).\n"
          ],
          "name": "stdout"
        }
      ]
    },
    {
      "cell_type": "markdown",
      "metadata": {
        "id": "YbdLxXpEv6It",
        "colab_type": "text"
      },
      "source": [
        "# Baseline model for classification on the image data"
      ]
    },
    {
      "cell_type": "code",
      "metadata": {
        "id": "tATtS8NkFxwL",
        "colab_type": "code",
        "colab": {}
      },
      "source": [
        "import numpy as np\n",
        "import pandas as pd\n",
        "import os\n",
        "import matplotlib.pyplot as plt\n",
        "from tqdm.notebook import tqdm\n",
        "from sklearn.decomposition import KernelPCA"
      ],
      "execution_count": 0,
      "outputs": []
    },
    {
      "cell_type": "code",
      "metadata": {
        "id": "pJIwj_hfGNvI",
        "colab_type": "code",
        "colab": {}
      },
      "source": [
        "def load_data(path):\n",
        "    data = np.load(path)\n",
        "    X = data['images']\n",
        "    y = data['ages']\n",
        "    g = data['genders']\n",
        "    return X, y, g"
      ],
      "execution_count": 0,
      "outputs": []
    },
    {
      "cell_type": "markdown",
      "metadata": {
        "id": "VovVrtoINsxT",
        "colab_type": "text"
      },
      "source": [
        "### Data uploading"
      ]
    },
    {
      "cell_type": "code",
      "metadata": {
        "id": "Pd0YDmckF7Yq",
        "colab_type": "code",
        "colab": {}
      },
      "source": [
        "path = r\"drive/My Drive/Colab Notebooks/ml-project/data\" #path to the folder with datasets that were created in the "
      ],
      "execution_count": 0,
      "outputs": []
    },
    {
      "cell_type": "code",
      "metadata": {
        "id": "IBMgHXImF97Z",
        "colab_type": "code",
        "colab": {}
      },
      "source": [
        "X_train, y_train, g_train = load_data(os.path.join(path, 'train_dataset.npy'))"
      ],
      "execution_count": 0,
      "outputs": []
    },
    {
      "cell_type": "code",
      "metadata": {
        "id": "eGjHJNwmGS91",
        "colab_type": "code",
        "colab": {}
      },
      "source": [
        "X_val, y_val, g_val = load_data(os.path.join(path, 'val_dataset.npy'))"
      ],
      "execution_count": 0,
      "outputs": []
    },
    {
      "cell_type": "code",
      "metadata": {
        "id": "8EKDYlyKGWJs",
        "colab_type": "code",
        "colab": {}
      },
      "source": [
        "X_test, y_test, g_test = load_data(os.path.join(path, 'test_dataset.npy'))"
      ],
      "execution_count": 0,
      "outputs": []
    },
    {
      "cell_type": "code",
      "metadata": {
        "id": "JWjGcq4ZHSIA",
        "colab_type": "code",
        "outputId": "254d2534-04df-4dee-cf9f-5e151c0cf5fb",
        "colab": {
          "base_uri": "https://localhost:8080/",
          "height": 34
        }
      },
      "source": [
        "X_train_full = np.vstack([X_train, X_val])\n",
        "X_train_full.shape"
      ],
      "execution_count": 0,
      "outputs": [
        {
          "output_type": "execute_result",
          "data": {
            "text/plain": [
              "(800, 1, 128, 128, 128)"
            ]
          },
          "metadata": {
            "tags": []
          },
          "execution_count": 8
        }
      ]
    },
    {
      "cell_type": "markdown",
      "metadata": {
        "id": "hkfhZ9vYNy45",
        "colab_type": "text"
      },
      "source": [
        "### Data reshaping"
      ]
    },
    {
      "cell_type": "code",
      "metadata": {
        "id": "7ny5CP7D1rYF",
        "colab_type": "code",
        "outputId": "a28a40ef-68de-44f1-b28c-ca582d83c0a1",
        "colab": {
          "base_uri": "https://localhost:8080/",
          "height": 34
        }
      },
      "source": [
        "X_train_full = X_train_full.reshape((X_train_full.shape[0], -1))\n",
        "X_train_full.shape"
      ],
      "execution_count": 0,
      "outputs": [
        {
          "output_type": "execute_result",
          "data": {
            "text/plain": [
              "(800, 2097152)"
            ]
          },
          "metadata": {
            "tags": []
          },
          "execution_count": 9
        }
      ]
    },
    {
      "cell_type": "code",
      "metadata": {
        "id": "doIZ9bGGKLJh",
        "colab_type": "code",
        "outputId": "d361995a-46b2-4fd7-9962-09b16639359d",
        "colab": {
          "base_uri": "https://localhost:8080/",
          "height": 34
        }
      },
      "source": [
        "X_train = X_train.reshape((X_train.shape[0], -1))\n",
        "X_train.shape"
      ],
      "execution_count": 0,
      "outputs": [
        {
          "output_type": "execute_result",
          "data": {
            "text/plain": [
              "(700, 2097152)"
            ]
          },
          "metadata": {
            "tags": []
          },
          "execution_count": 10
        }
      ]
    },
    {
      "cell_type": "code",
      "metadata": {
        "id": "o5piC9yw1lRT",
        "colab_type": "code",
        "outputId": "7ff03b41-10a2-4cce-b6f7-119b7923e241",
        "colab": {
          "base_uri": "https://localhost:8080/",
          "height": 34
        }
      },
      "source": [
        "X_val = X_val.reshape((X_val.shape[0], -1))\n",
        "X_val.shape"
      ],
      "execution_count": 0,
      "outputs": [
        {
          "output_type": "execute_result",
          "data": {
            "text/plain": [
              "(100, 2097152)"
            ]
          },
          "metadata": {
            "tags": []
          },
          "execution_count": 11
        }
      ]
    },
    {
      "cell_type": "code",
      "metadata": {
        "id": "Axr2OB4vKUtX",
        "colab_type": "code",
        "outputId": "61fd248a-44b6-4c49-84f3-535e79a36435",
        "colab": {
          "base_uri": "https://localhost:8080/",
          "height": 34
        }
      },
      "source": [
        "X_test = X_test.reshape((X_test.shape[0], -1))\n",
        "X_test.shape"
      ],
      "execution_count": 0,
      "outputs": [
        {
          "output_type": "execute_result",
          "data": {
            "text/plain": [
              "(99, 2097152)"
            ]
          },
          "metadata": {
            "tags": []
          },
          "execution_count": 12
        }
      ]
    },
    {
      "cell_type": "code",
      "metadata": {
        "id": "MNH0OvnJMEmf",
        "colab_type": "code",
        "colab": {}
      },
      "source": [
        "g_train = g_train.reshape(-1, 1)\n",
        "g_test = g_test.reshape(-1, 1)\n",
        "g_val = g_val.reshape(-1, 1)"
      ],
      "execution_count": 0,
      "outputs": []
    },
    {
      "cell_type": "markdown",
      "metadata": {
        "id": "hhaABMuyN2sm",
        "colab_type": "text"
      },
      "source": [
        "### KernelPCA determining"
      ]
    },
    {
      "cell_type": "code",
      "metadata": {
        "id": "CmPkrby6Jofj",
        "colab_type": "code",
        "colab": {}
      },
      "source": [
        "pca = KernelPCA(n_components=100, kernel='rbf', n_jobs=-1, copy_X=False, random_state=42)"
      ],
      "execution_count": 0,
      "outputs": []
    },
    {
      "cell_type": "code",
      "metadata": {
        "id": "Z2I_xgI1J8Ii",
        "colab_type": "code",
        "outputId": "61bebd0d-d5c0-41c4-8545-238f4d0d367d",
        "colab": {
          "base_uri": "https://localhost:8080/",
          "height": 51
        }
      },
      "source": [
        "%%time\n",
        "pca.fit_transform(X_train_full)"
      ],
      "execution_count": 0,
      "outputs": [
        {
          "output_type": "stream",
          "text": [
            "CPU times: user 6min 37s, sys: 36.2 s, total: 7min 14s\n",
            "Wall time: 2min 49s\n"
          ],
          "name": "stdout"
        }
      ]
    },
    {
      "cell_type": "markdown",
      "metadata": {
        "id": "UokXMvoXN-VE",
        "colab_type": "text"
      },
      "source": [
        "### Obtain features via KernelPCA"
      ]
    },
    {
      "cell_type": "code",
      "metadata": {
        "id": "ayc50xbb3nIS",
        "colab_type": "code",
        "colab": {}
      },
      "source": [
        "X_train_tr = pca.transform(X_train)"
      ],
      "execution_count": 0,
      "outputs": []
    },
    {
      "cell_type": "code",
      "metadata": {
        "id": "6K9Z63vR3qiG",
        "colab_type": "code",
        "colab": {}
      },
      "source": [
        "X_val_tr = pca.transform(X_val)"
      ],
      "execution_count": 0,
      "outputs": []
    },
    {
      "cell_type": "code",
      "metadata": {
        "id": "BRx-myHUKhT-",
        "colab_type": "code",
        "colab": {}
      },
      "source": [
        "X_test_tr = pca.transform(X_test)"
      ],
      "execution_count": 0,
      "outputs": []
    },
    {
      "cell_type": "markdown",
      "metadata": {
        "id": "ED2TQg4eOFKZ",
        "colab_type": "text"
      },
      "source": [
        "## kNNN"
      ]
    },
    {
      "cell_type": "code",
      "metadata": {
        "id": "1y6C07M7LMhU",
        "colab_type": "code",
        "colab": {}
      },
      "source": [
        "from sklearn.neighbors import KNeighborsClassifier\n",
        "from sklearn.metrics import f1_score"
      ],
      "execution_count": 0,
      "outputs": []
    },
    {
      "cell_type": "markdown",
      "metadata": {
        "id": "RBzzRaKmOLHe",
        "colab_type": "text"
      },
      "source": [
        "### $4$-class classification"
      ]
    },
    {
      "cell_type": "code",
      "metadata": {
        "id": "iklW4K_57GIZ",
        "colab_type": "code",
        "colab": {}
      },
      "source": [
        "scores = []\n",
        "for n in range(3, 10):\n",
        "    knn = KNeighborsClassifier(n_neighbors=n, n_jobs=-1)\n",
        "    knn.fit(np.hstack([X_train_tr, g_train]), y_train)\n",
        "    pred = knn.predict(np.hstack([X_val_tr, g_val]))\n",
        "    scores.append(f1_score(y_val, pred, average='micro'))"
      ],
      "execution_count": 0,
      "outputs": []
    },
    {
      "cell_type": "code",
      "metadata": {
        "id": "aSiwlzI57ug6",
        "colab_type": "code",
        "outputId": "2db1e6a2-24af-4a74-ec9a-d129334b47c8",
        "colab": {
          "base_uri": "https://localhost:8080/",
          "height": 34
        }
      },
      "source": [
        "best_param = np.arange(3, 10)[np.array(scores)==max(scores)]\n",
        "best_param"
      ],
      "execution_count": 0,
      "outputs": [
        {
          "output_type": "execute_result",
          "data": {
            "text/plain": [
              "array([4])"
            ]
          },
          "metadata": {
            "tags": []
          },
          "execution_count": 30
        }
      ]
    },
    {
      "cell_type": "code",
      "metadata": {
        "id": "OZ6SqwY17-5F",
        "colab_type": "code",
        "outputId": "22c975f5-64e2-4de7-d87d-ef3702c68e20",
        "colab": {
          "base_uri": "https://localhost:8080/",
          "height": 68
        }
      },
      "source": [
        "knn = KNeighborsClassifier(n_neighbors=4, n_jobs=-1)\n",
        "knn.fit(np.hstack([X_train_tr, g_train]), y_train)"
      ],
      "execution_count": 0,
      "outputs": [
        {
          "output_type": "execute_result",
          "data": {
            "text/plain": [
              "KNeighborsClassifier(algorithm='auto', leaf_size=30, metric='minkowski',\n",
              "                     metric_params=None, n_jobs=-1, n_neighbors=4, p=2,\n",
              "                     weights='uniform')"
            ]
          },
          "metadata": {
            "tags": []
          },
          "execution_count": 31
        }
      ]
    },
    {
      "cell_type": "code",
      "metadata": {
        "id": "-BX_bGJPL1Dt",
        "colab_type": "code",
        "outputId": "e69fafde-6c1a-47f1-aa02-df23387df643",
        "colab": {
          "base_uri": "https://localhost:8080/",
          "height": 34
        }
      },
      "source": [
        "y_train_pred = knn.predict(np.hstack([X_train_tr, g_train]))\n",
        "f1_score(y_train, y_train_pred, average='micro')"
      ],
      "execution_count": 0,
      "outputs": [
        {
          "output_type": "execute_result",
          "data": {
            "text/plain": [
              "0.6557142857142857"
            ]
          },
          "metadata": {
            "tags": []
          },
          "execution_count": 32
        }
      ]
    },
    {
      "cell_type": "code",
      "metadata": {
        "id": "O7ivJu3J8JqK",
        "colab_type": "code",
        "outputId": "e513ce69-9e5b-4496-ae16-48f29b3a6be9",
        "colab": {
          "base_uri": "https://localhost:8080/",
          "height": 34
        }
      },
      "source": [
        "y_val_pred = knn.predict(np.hstack([X_val_tr, g_val]))\n",
        "f1_score(y_val, y_val_pred, average='micro')"
      ],
      "execution_count": 0,
      "outputs": [
        {
          "output_type": "execute_result",
          "data": {
            "text/plain": [
              "0.42999999999999994"
            ]
          },
          "metadata": {
            "tags": []
          },
          "execution_count": 33
        }
      ]
    },
    {
      "cell_type": "code",
      "metadata": {
        "id": "ua6Z5waQNZeD",
        "colab_type": "code",
        "outputId": "bf61cbf6-6d17-40ad-83ce-a73721bb553d",
        "colab": {
          "base_uri": "https://localhost:8080/",
          "height": 34
        }
      },
      "source": [
        "y_test_pred = knn.predict(np.hstack([X_test_tr, g_test]))\n",
        "f1_score(y_test, y_test_pred, average='micro')"
      ],
      "execution_count": 0,
      "outputs": [
        {
          "output_type": "execute_result",
          "data": {
            "text/plain": [
              "0.45454545454545453"
            ]
          },
          "metadata": {
            "tags": []
          },
          "execution_count": 34
        }
      ]
    },
    {
      "cell_type": "markdown",
      "metadata": {
        "colab_type": "text",
        "id": "p47x8yH-OUIe"
      },
      "source": [
        "### $2$-class classification"
      ]
    },
    {
      "cell_type": "markdown",
      "metadata": {
        "id": "V-iU1eigM-Fp",
        "colab_type": "text"
      },
      "source": [
        "Classification for $2$ classes."
      ]
    },
    {
      "cell_type": "code",
      "metadata": {
        "id": "Rea04g8Yr7uG",
        "colab_type": "code",
        "colab": {}
      },
      "source": [
        "def regroup_ages(y):\n",
        "    return np.array(list(map(lambda x: 0 if x < 2 else 1, y)))"
      ],
      "execution_count": 0,
      "outputs": []
    },
    {
      "cell_type": "code",
      "metadata": {
        "id": "_HcZB0ImNBlM",
        "colab_type": "code",
        "colab": {}
      },
      "source": [
        "y_train_2 = regroup_ages(y_train)\n",
        "y_val_2 = regroup_ages(y_val)\n",
        "y_test_2 = regroup_ages(y_test)"
      ],
      "execution_count": 0,
      "outputs": []
    },
    {
      "cell_type": "code",
      "metadata": {
        "id": "5uZM79QFNHeD",
        "colab_type": "code",
        "colab": {}
      },
      "source": [
        "scores = []\n",
        "for n in range(3, 10):\n",
        "    knn = KNeighborsClassifier(n_neighbors=n, n_jobs=-1)\n",
        "    knn.fit(np.hstack([X_train_tr, g_train]), y_train_2)\n",
        "    pred = knn.predict(np.hstack([X_val_tr, g_val]))\n",
        "    scores.append(f1_score(y_val_2, pred, average='micro'))"
      ],
      "execution_count": 0,
      "outputs": []
    },
    {
      "cell_type": "code",
      "metadata": {
        "id": "AqsvG5pQsS0S",
        "colab_type": "code",
        "outputId": "32ab24df-a4fb-416e-ef0c-1e24ec221753",
        "colab": {
          "base_uri": "https://localhost:8080/",
          "height": 34
        }
      },
      "source": [
        "best_param = np.arange(3, 10)[np.array(scores)==max(scores)]\n",
        "best_param"
      ],
      "execution_count": 0,
      "outputs": [
        {
          "output_type": "execute_result",
          "data": {
            "text/plain": [
              "(array([3]), 0.61)"
            ]
          },
          "metadata": {
            "tags": []
          },
          "execution_count": 26
        }
      ]
    },
    {
      "cell_type": "code",
      "metadata": {
        "id": "YBAKyaJNsXNt",
        "colab_type": "code",
        "outputId": "4349f958-9292-4ddb-e1a1-acb96c93a87a",
        "colab": {
          "base_uri": "https://localhost:8080/",
          "height": 68
        }
      },
      "source": [
        "knn = KNeighborsClassifier(n_neighbors=3, n_jobs=-1)\n",
        "knn.fit(np.hstack([X_train_tr, g_train]), y_train_2)"
      ],
      "execution_count": 0,
      "outputs": [
        {
          "output_type": "execute_result",
          "data": {
            "text/plain": [
              "KNeighborsClassifier(algorithm='auto', leaf_size=30, metric='minkowski',\n",
              "                     metric_params=None, n_jobs=-1, n_neighbors=3, p=2,\n",
              "                     weights='uniform')"
            ]
          },
          "metadata": {
            "tags": []
          },
          "execution_count": 27
        }
      ]
    },
    {
      "cell_type": "code",
      "metadata": {
        "colab_type": "code",
        "outputId": "bc457ee4-9e72-4135-8e88-c8a1e76ecef5",
        "id": "-Xn5JUmNsmTu",
        "colab": {
          "base_uri": "https://localhost:8080/",
          "height": 34
        }
      },
      "source": [
        "y_train_pred = knn.predict(np.hstack([X_train_tr, g_train]))\n",
        "f1_score(y_train_2, y_train_pred, average='micro')"
      ],
      "execution_count": 0,
      "outputs": [
        {
          "output_type": "execute_result",
          "data": {
            "text/plain": [
              "0.797142857142857"
            ]
          },
          "metadata": {
            "tags": []
          },
          "execution_count": 28
        }
      ]
    },
    {
      "cell_type": "code",
      "metadata": {
        "colab_type": "code",
        "outputId": "c5964c07-7a31-4fa3-b73f-81a16b47178b",
        "id": "TsiG0fa4smT0",
        "colab": {
          "base_uri": "https://localhost:8080/",
          "height": 34
        }
      },
      "source": [
        "y_val_pred = knn.predict(np.hstack([X_val_tr, g_val]))\n",
        "f1_score(y_val_2, y_val_pred, average='micro')"
      ],
      "execution_count": 0,
      "outputs": [
        {
          "output_type": "execute_result",
          "data": {
            "text/plain": [
              "0.61"
            ]
          },
          "metadata": {
            "tags": []
          },
          "execution_count": 29
        }
      ]
    },
    {
      "cell_type": "code",
      "metadata": {
        "colab_type": "code",
        "outputId": "4ae37dd0-5b5f-4646-d056-f6a004850f54",
        "id": "3csqf6IHsmT2",
        "colab": {
          "base_uri": "https://localhost:8080/",
          "height": 34
        }
      },
      "source": [
        "y_test_pred = knn.predict(np.hstack([X_test_tr, g_test]))\n",
        "f1_score(y_test_2, y_test_pred, average='micro')"
      ],
      "execution_count": 0,
      "outputs": [
        {
          "output_type": "execute_result",
          "data": {
            "text/plain": [
              "0.6161616161616161"
            ]
          },
          "metadata": {
            "tags": []
          },
          "execution_count": 30
        }
      ]
    },
    {
      "cell_type": "code",
      "metadata": {
        "id": "QNRpqeL1xAPw",
        "colab_type": "code",
        "colab": {}
      },
      "source": [
        ""
      ],
      "execution_count": 0,
      "outputs": []
    }
  ]
}
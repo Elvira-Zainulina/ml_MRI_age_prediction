{
 "cells": [
  {
   "cell_type": "markdown",
   "metadata": {
    "colab_type": "text",
    "id": "32dS3a72U4gp"
   },
   "source": [
    "# Exploring brain MRI: deriving brain aging changes\n",
    "## Table data.\n",
    "\n",
    "**Created by** Kiseleva Elizaveta\n",
    "\n",
    "In that notebook we tried to divide the classification into 2 steps.\n",
    "Due to the fact that there are very few people over 35 in the sample, we decided to consider them anomalies in the general data set.\n",
    "\n",
    "**The first step** is to identify such anomalies, i.e. definition of people over 35.\n",
    "\n",
    "**The second step** is to determine the person’s age if his data were not abnormal after the first step, i.e. he is 35 years old or less. This is a three-class classification."
   ]
  },
  {
   "cell_type": "markdown",
   "metadata": {
    "colab_type": "text",
    "id": "5wDOESacRXYa"
   },
   "source": [
    "To start this notebook, you need to register on the site https://db.humanconnectome.org/ and download \"Behavioral Data\" and \"Expanded FreeSurfer Data\" from this [project](https://db.humanconnectome.org/data/projects/HCP_1200)."
   ]
  },
  {
   "cell_type": "code",
   "execution_count": 0,
   "metadata": {
    "colab": {},
    "colab_type": "code",
    "id": "4yduU9Ka8MR3"
   },
   "outputs": [],
   "source": [
    "import numpy as np\n",
    "import pandas as pd\n",
    "import matplotlib.pyplot as plt\n",
    "\n",
    "from sklearn.ensemble import ExtraTreesClassifier, RandomForestClassifier\n",
    "from sklearn.metrics import accuracy_score, balanced_accuracy_score\n",
    "from sklearn.model_selection import train_test_split, cross_val_score, StratifiedKFold, cross_validate\n",
    "from sklearn.neighbors import KNeighborsClassifier\n",
    "from sklearn.preprocessing import LabelEncoder, StandardScaler\n",
    "from sklearn.svm import SVC, LinearSVC\n",
    "from sklearn.metrics import f1_score\n",
    "from xgboost import XGBClassifier\n",
    "from sklearn.model_selection import GridSearchCV, StratifiedKFold\n",
    "import os\n",
    "from sklearn.ensemble import GradientBoostingClassifier\n",
    "rng = np.random.RandomState(42)\n",
    "\n",
    "\n",
    "from functions import data_formation, three_classes #functions are on the github and shoud be uploaded"
   ]
  },
  {
   "cell_type": "code",
   "execution_count": 2,
   "metadata": {
    "colab": {
     "base_uri": "https://localhost:8080/",
     "height": 34
    },
    "colab_type": "code",
    "id": "a4zRQITCD0RU",
    "outputId": "ef90a672-936d-4f04-c066-8c93dedddcc8"
   },
   "outputs": [
    {
     "name": "stdout",
     "output_type": "stream",
     "text": [
      "Drive already mounted at /content/drive; to attempt to forcibly remount, call drive.mount(\"/content/drive\", force_remount=True).\n"
     ]
    }
   ],
   "source": [
    "from google.colab import drive\n",
    "drive.mount('/content/drive')"
   ]
  },
  {
   "cell_type": "code",
   "execution_count": 0,
   "metadata": {
    "colab": {},
    "colab_type": "code",
    "id": "nXvgN3qlEVHh"
   },
   "outputs": [],
   "source": [
    "path = r\"drive/My Drive/Skoltech/ml/data\""
   ]
  },
  {
   "cell_type": "markdown",
   "metadata": {
    "colab_type": "text",
    "id": "6RHwiy7UaOns"
   },
   "source": [
    "In order to be able to compare the results of classification based on tabular data and classification based on MRI, in all experiments we used the same division of data into training, validation and test sets."
   ]
  },
  {
   "cell_type": "code",
   "execution_count": 4,
   "metadata": {
    "colab": {
     "base_uri": "https://localhost:8080/",
     "height": 101
    },
    "colab_type": "code",
    "id": "_a4vVhBkH6Rp",
    "outputId": "7183e2fd-2776-466f-c96f-7ac48ae2701b"
   },
   "outputs": [
    {
     "name": "stdout",
     "output_type": "stream",
     "text": [
      "Full train shape: (800,)\n",
      " Train shape:     (700,)\n",
      " Val shape:       (100,) \n",
      "\n",
      "Test shape:       (99,)\n"
     ]
    }
   ],
   "source": [
    "full_train_names = np.load(os.path.join(path,'full_train_names.npy'))\n",
    "test_names = np.load(os.path.join(path,'test_names.npy'))\n",
    "train_names = np.load(os.path.join(path,'train_names.npy'))\n",
    "val_names = np.load(os.path.join(path,'val_names.npy'))\n",
    "print('Full train shape:', full_train_names.shape)\n",
    "print(' Train shape:    ', train_names.shape)\n",
    "print(' Val shape:      ', val_names.shape, '\\n')\n",
    "print('Test shape:      ', test_names.shape)"
   ]
  },
  {
   "cell_type": "markdown",
   "metadata": {
    "colab_type": "text",
    "id": "A7gb6PhGbXzn"
   },
   "source": [
    "## Anomaly detection = 36+ Finding\n",
    "\n",
    "Here I tried several methods for detecting anomalies. \n",
    "\n",
    "The Isolation Forest turned out to be the best, and for the main function I used it."
   ]
  },
  {
   "cell_type": "markdown",
   "metadata": {
    "colab_type": "text",
    "id": "qpk7je28eMkG"
   },
   "source": [
    "### Data preprocessing"
   ]
  },
  {
   "cell_type": "code",
   "execution_count": 0,
   "metadata": {
    "colab": {},
    "colab_type": "code",
    "id": "DaNN2fSX8MSE"
   },
   "outputs": [],
   "source": [
    "data = pd.read_csv(os.path.join(path,'unrestricted_hcp_freesurfer.csv'))\n",
    "data = data.drop(columns='Release')\n",
    "target = pd.read_csv(os.path.join(path,'unrestricted.csv'))\n",
    "\n",
    "gender_labeling = LabelEncoder()\n",
    "data['Gender'] = gender_labeling.fit_transform(data['Gender'])\n",
    "\n",
    "# Separation into 2 classes: >36 and <36\n",
    "target['Age'] = np.where(target['Age'] == '36+', 1, -1) \n",
    "anomaly_data = target[target['Age'] == 1].shape[0]\n",
    "norm_data = target[target['Age'] == -1].shape[0]\n",
    "\n",
    "# Formation of training, test and validation samples\n",
    "full_train_X, full_train_y, train_X, train_y, val_X, val_y, _, _ = data_formation (full_train_names, train_names, val_names, test_names, data, target)"
   ]
  },
  {
   "cell_type": "code",
   "execution_count": 6,
   "metadata": {
    "colab": {
     "base_uri": "https://localhost:8080/",
     "height": 34
    },
    "colab_type": "code",
    "id": "5T-YQOVmeJ-L",
    "outputId": "985b852c-e3b3-4fb4-deca-51ee12300fe6"
   },
   "outputs": [
    {
     "name": "stdout",
     "output_type": "stream",
     "text": [
      "1.16 % of all data are people of 36+\n"
     ]
    }
   ],
   "source": [
    "print(round((anomaly_data/(anomaly_data+norm_data))*100, 2), '% of all data are people of 36+')"
   ]
  },
  {
   "cell_type": "markdown",
   "metadata": {
    "colab_type": "text",
    "id": "GGkk7Mhih2a2"
   },
   "source": [
    "### Isolation forest"
   ]
  },
  {
   "cell_type": "code",
   "execution_count": 0,
   "metadata": {
    "colab": {},
    "colab_type": "code",
    "id": "EQHGqE9_BiCW"
   },
   "outputs": [],
   "source": [
    "from sklearn.ensemble import IsolationForest\n",
    "import matplotlib.pyplot as plt\n",
    "from sklearn.metrics import roc_auc_score, precision_score\n",
    "rng = np.random.RandomState(42)"
   ]
  },
  {
   "cell_type": "markdown",
   "metadata": {
    "colab_type": "text",
    "id": "CbHZma_4w_4q"
   },
   "source": [
    "#### Selection of parameters for Isolation Forest"
   ]
  },
  {
   "cell_type": "code",
   "execution_count": 8,
   "metadata": {
    "colab": {
     "base_uri": "https://localhost:8080/",
     "height": 363
    },
    "colab_type": "code",
    "id": "Z6knhu6nUfJd",
    "outputId": "7fd81260-e297-4ab9-86f7-18ca1938f64f"
   },
   "outputs": [
    {
     "name": "stdout",
     "output_type": "stream",
     "text": [
      "max_samples =  8\n",
      "    ROC AUC validation =  0.7193877551020409\n",
      "    Precission validation =  0.017857142857142856\n"
     ]
    },
    {
     "data": {
      "text/plain": [
       "Text(0.5, 1.0, 'Quality of Isolation forest depending on max_samples')"
      ]
     },
     "execution_count": 8,
     "metadata": {
      "tags": []
     },
     "output_type": "execute_result"
    },
    {
     "data": {
      "image/png": "[encoded data removed]",
      "text/plain": [
       "<Figure size 432x288 with 1 Axes>"
      ]
     },
     "metadata": {
      "tags": []
     },
     "output_type": "display_data"
    }
   ],
   "source": [
    "rocauc = []\n",
    "for i in range(2, 50, 2):\n",
    "    clf = IsolationForest(max_samples = i, random_state=rng)\n",
    "    clf.fit(train_X)\n",
    "    y_pred = clf.predict(val_X)\n",
    "    # # y_pred[y_pred == 1] = 0\n",
    "    # y_pred[y_pred == -1] = 0\n",
    "    ra = roc_auc_score(val_y, y_pred)\n",
    "    rocauc.append(ra)\n",
    "    if ra>=0.7:\n",
    "        print('max_samples = ', i)\n",
    "        print('    ROC AUC validation = ', roc_auc_score(val_y, y_pred))\n",
    "        print('    Precission validation = ', precision_score(val_y, y_pred))\n",
    "\n",
    "plt.plot(range(2, 50, 2), rocauc)\n",
    "plt.xlabel('max_samples')\n",
    "plt.ylabel('ROC-AUC')\n",
    "plt.title('Quality of Isolation forest depending on max_samples')"
   ]
  },
  {
   "cell_type": "code",
   "execution_count": 11,
   "metadata": {
    "colab": {
     "base_uri": "https://localhost:8080/",
     "height": 282
    },
    "colab_type": "code",
    "id": "5QX_eE-cBg16",
    "outputId": "9949ba5d-8cc0-4afa-bed9-d74d002fe2c2"
   },
   "outputs": [
    {
     "data": {
      "text/plain": [
       "[<matplotlib.lines.Line2D at 0x7f35935d0da0>]"
      ]
     },
     "execution_count": 11,
     "metadata": {
      "tags": []
     },
     "output_type": "execute_result"
    },
    {
     "data": {
      "image/png": "[encoded data removed]",
      "text/plain": [
       "<Figure size 432x288 with 1 Axes>"
      ]
     },
     "metadata": {
      "tags": []
     },
     "output_type": "display_data"
    }
   ],
   "source": [
    "a = np.arange(0, 1, 0.001)\n",
    "rocauc = []\n",
    "for i in a:\n",
    "    clf = IsolationForest(max_samples = 8, contamination=i, random_state=rng)\n",
    "    clf.fit(train_X)\n",
    "    y_pred = clf.predict(val_X)\n",
    "    # y_pred[y_pred == 1] = 0\n",
    "    # y_pred[y_pred == -1] = 1\n",
    "    ra = roc_auc_score(val_y, y_pred)\n",
    "    rocauc.append(ra)\n",
    "    # if ra>0.75:\n",
    "    #     print('contamination = ', i)\n",
    "    #     print('    ROC AUC test = ', roc_auc_score(val_y, y_pred))\n",
    "    #     print('    Precission test = ', precision_score(val_y, y_pred))\n",
    "\n",
    "plt.plot(a, rocauc)"
   ]
  },
  {
   "cell_type": "markdown",
   "metadata": {
    "colab_type": "text",
    "id": "Z9UH-Em7vxBt"
   },
   "source": [
    "#### Best model for identifying people 36+"
   ]
  },
  {
   "cell_type": "code",
   "execution_count": 12,
   "metadata": {
    "colab": {
     "base_uri": "https://localhost:8080/",
     "height": 84
    },
    "colab_type": "code",
    "id": "b1EI0jzx8rpP",
    "outputId": "0c51c959-f4dc-4137-b9c5-446487e3ea8a"
   },
   "outputs": [
    {
     "data": {
      "text/plain": [
       "IsolationForest(behaviour='deprecated', bootstrap=False, contamination=0.99,\n",
       "                max_features=1.0, max_samples=8, n_estimators=100, n_jobs=None,\n",
       "                random_state=RandomState(MT19937) at 0x7F359E724EB8, verbose=0,\n",
       "                warm_start=False)"
      ]
     },
     "execution_count": 12,
     "metadata": {
      "tags": []
     },
     "output_type": "execute_result"
    }
   ],
   "source": [
    "anomaly = IsolationForest( max_samples = 8, contamination=  0.99, random_state=rng) \n",
    "anomaly.fit(full_train_X)"
   ]
  },
  {
   "cell_type": "markdown",
   "metadata": {
    "colab_type": "text",
    "id": "x3c0FrZFh81p"
   },
   "source": [
    "### OneClassSVM"
   ]
  },
  {
   "cell_type": "code",
   "execution_count": 13,
   "metadata": {
    "colab": {
     "base_uri": "https://localhost:8080/",
     "height": 314
    },
    "colab_type": "code",
    "id": "nUOivLrPh_zR",
    "outputId": "33bc3dd3-bd8f-49bd-892f-fb1197d90a67"
   },
   "outputs": [
    {
     "name": "stderr",
     "output_type": "stream",
     "text": [
      "100%|██████████| 5/5 [00:03<00:00,  1.44it/s]\n"
     ]
    },
    {
     "data": {
      "text/plain": [
       "Text(0, 0.5, 'ROC-AUC')"
      ]
     },
     "execution_count": 13,
     "metadata": {
      "tags": []
     },
     "output_type": "execute_result"
    },
    {
     "data": {
      "image/png": "[encoded data removed]",
      "text/plain": [
       "<Figure size 432x288 with 1 Axes>"
      ]
     },
     "metadata": {
      "tags": []
     },
     "output_type": "display_data"
    }
   ],
   "source": [
    "from tqdm import tqdm \n",
    "\n",
    "from sklearn import svm\n",
    "rocauc = []\n",
    "for outliers_fraction in tqdm([0.001, 0.01, 0.1, 0.15, 0.2]):\n",
    "    clf = svm.OneClassSVM(nu=outliers_fraction, kernel=\"rbf\",\n",
    "                                      gamma=0.1)\n",
    "\n",
    "    clf.fit(train_X)\n",
    "    y_pred = clf.predict(val_X)\n",
    "    # y_pred[y_pred == -1] = 0\n",
    "    # # y_pred[y_pred == -1] = 1\n",
    "    ra = roc_auc_score(val_y, y_pred)\n",
    "    rocauc.append(ra)\n",
    "    if ra>0.855:\n",
    "        print('max_samples = ', i)\n",
    "        print('    ROC AUC test = ', roc_auc_score(val_y, y_pred))\n",
    "        print('    Precission test = ', precision_score(val_y, y_pred))\n",
    "\n",
    "plt.plot([0.001, 0.01, 0.1, 0.15, 0.2], rocauc)\n",
    "plt.xlabel('max_samples')\n",
    "plt.ylabel('ROC-AUC')"
   ]
  },
  {
   "cell_type": "markdown",
   "metadata": {
    "colab_type": "text",
    "id": "Pdiw-8fpiS61"
   },
   "source": [
    "### EllipticEnvelope"
   ]
  },
  {
   "cell_type": "code",
   "execution_count": 14,
   "metadata": {
    "colab": {
     "base_uri": "https://localhost:8080/",
     "height": 686
    },
    "colab_type": "code",
    "id": "g410mkXziSS_",
    "outputId": "782a5ed0-6350-401f-da15-441b759a85c7"
   },
   "outputs": [
    {
     "name": "stderr",
     "output_type": "stream",
     "text": [
      "\r",
      "  0%|          | 0/11 [00:00<?, ?it/s]/usr/local/lib/python3.6/dist-packages/sklearn/covariance/_robust_covariance.py:644: UserWarning: The covariance matrix associated to your dataset is not full rank\n",
      "  warnings.warn(\"The covariance matrix associated to your dataset \"\n",
      "  9%|▉         | 1/11 [02:26<24:23, 146.33s/it]/usr/local/lib/python3.6/dist-packages/sklearn/covariance/_robust_covariance.py:644: UserWarning: The covariance matrix associated to your dataset is not full rank\n",
      "  warnings.warn(\"The covariance matrix associated to your dataset \"\n",
      " 18%|█▊        | 2/11 [04:54<22:02, 146.98s/it]/usr/local/lib/python3.6/dist-packages/sklearn/covariance/_robust_covariance.py:644: UserWarning: The covariance matrix associated to your dataset is not full rank\n",
      "  warnings.warn(\"The covariance matrix associated to your dataset \"\n",
      " 27%|██▋       | 3/11 [07:25<19:43, 147.96s/it]/usr/local/lib/python3.6/dist-packages/sklearn/covariance/_robust_covariance.py:644: UserWarning: The covariance matrix associated to your dataset is not full rank\n",
      "  warnings.warn(\"The covariance matrix associated to your dataset \"\n",
      " 36%|███▋      | 4/11 [09:56<17:23, 149.13s/it]/usr/local/lib/python3.6/dist-packages/sklearn/covariance/_robust_covariance.py:644: UserWarning: The covariance matrix associated to your dataset is not full rank\n",
      "  warnings.warn(\"The covariance matrix associated to your dataset \"\n",
      " 45%|████▌     | 5/11 [12:28<14:59, 149.99s/it]/usr/local/lib/python3.6/dist-packages/sklearn/covariance/_robust_covariance.py:644: UserWarning: The covariance matrix associated to your dataset is not full rank\n",
      "  warnings.warn(\"The covariance matrix associated to your dataset \"\n",
      " 55%|█████▍    | 6/11 [15:01<12:33, 150.67s/it]/usr/local/lib/python3.6/dist-packages/sklearn/covariance/_robust_covariance.py:644: UserWarning: The covariance matrix associated to your dataset is not full rank\n",
      "  warnings.warn(\"The covariance matrix associated to your dataset \"\n",
      " 64%|██████▎   | 7/11 [17:35<10:07, 151.86s/it]/usr/local/lib/python3.6/dist-packages/sklearn/covariance/_robust_covariance.py:644: UserWarning: The covariance matrix associated to your dataset is not full rank\n",
      "  warnings.warn(\"The covariance matrix associated to your dataset \"\n",
      " 73%|███████▎  | 8/11 [20:09<07:36, 152.29s/it]/usr/local/lib/python3.6/dist-packages/sklearn/covariance/_robust_covariance.py:644: UserWarning: The covariance matrix associated to your dataset is not full rank\n",
      "  warnings.warn(\"The covariance matrix associated to your dataset \"\n",
      " 82%|████████▏ | 9/11 [22:41<05:04, 152.40s/it]/usr/local/lib/python3.6/dist-packages/sklearn/covariance/_robust_covariance.py:644: UserWarning: The covariance matrix associated to your dataset is not full rank\n",
      "  warnings.warn(\"The covariance matrix associated to your dataset \"\n",
      " 91%|█████████ | 10/11 [25:11<02:31, 151.67s/it]/usr/local/lib/python3.6/dist-packages/sklearn/covariance/_robust_covariance.py:644: UserWarning: The covariance matrix associated to your dataset is not full rank\n",
      "  warnings.warn(\"The covariance matrix associated to your dataset \"\n",
      "100%|██████████| 11/11 [27:42<00:00, 151.11s/it]\n"
     ]
    },
    {
     "data": {
      "image/png": "[encoded data removed]",
      "text/plain": [
       "<Figure size 432x288 with 1 Axes>"
      ]
     },
     "metadata": {
      "tags": []
     },
     "output_type": "display_data"
    }
   ],
   "source": [
    "from sklearn.covariance import EllipticEnvelope\n",
    "rocauc = []\n",
    "for contamination in tqdm([0.001, 0.01, 0.1, 0.15, 0.2, 0.25, 0.3, 0.35, 0.4, 0.45, 0.5]):\n",
    "    cov = EllipticEnvelope(random_state=rng, contamination = contamination).fit(train_X)\n",
    "    y_pred = cov.predict(val_X)\n",
    "    # # y_pred[y_pred == 1] = 0\n",
    "    # y_pred[y_pred == -1] = 0\n",
    "    ra = roc_auc_score(val_y, y_pred)\n",
    "    rocauc.append(ra)\n",
    "    if ra>0.8:\n",
    "        print('\\n contamination = ', i)\n",
    "        print('    ROC-AUC test = ', roc_auc_score(val_y, y_pred))\n",
    "        print('    Precission test = ', precision_score(val_y, y_pred))\n",
    "\n",
    "plt.plot([0.001, 0.01, 0.1, 0.15, 0.2, 0.25, 0.3, 0.35, 0.4, 0.45, 0.5], rocauc)\n",
    "plt.xlabel('contamination')\n",
    "plt.ylabel('ROC-AUC')\n",
    "plt.show()"
   ]
  },
  {
   "cell_type": "markdown",
   "metadata": {
    "colab_type": "text",
    "id": "mXpTbr2xrmCT"
   },
   "source": [
    "### LocalOutlierFactor"
   ]
  },
  {
   "cell_type": "code",
   "execution_count": 0,
   "metadata": {
    "colab": {},
    "colab_type": "code",
    "id": "WY9UGPMzrE9D"
   },
   "outputs": [],
   "source": [
    "from sklearn.neighbors import LocalOutlierFactor\n",
    "rocauc = []\n",
    "for i in range(20, 40):\n",
    "    clf = LocalOutlierFactor(n_neighbors=i, algorithm = 'auto')\n",
    "    y_pred = clf.fit_predict(data)\n",
    "    # y_pred[y_pred == 1] = 1\n",
    "    # y_pred[y_pred == -1] = 0\n",
    "    # ra = roc_auc_score(target, y_pred)\n",
    "    # rocauc.append(ra)\n",
    "    if ra>0.55:\n",
    "        print('max_samples = ', i)\n",
    "        print('    ROC AUC test = ', roc_auc_score(val_y, y_pred))\n",
    "        print('    Precission test = ', precision_score(val_y, y_pred))\n",
    "\n",
    "# plt.plot(range(20, 40), rocauc)"
   ]
  },
  {
   "cell_type": "markdown",
   "metadata": {
    "colab_type": "text",
    "id": "iTITTfhecWJl"
   },
   "source": [
    "## 3-class Classification\n",
    "22-25, 26-30, 31-35"
   ]
  },
  {
   "cell_type": "markdown",
   "metadata": {
    "colab_type": "text",
    "id": "gH79cboeiyM1"
   },
   "source": [
    "### Data preprocessing"
   ]
  },
  {
   "cell_type": "code",
   "execution_count": 0,
   "metadata": {
    "colab": {},
    "colab_type": "code",
    "id": "GxDrITvKcebg"
   },
   "outputs": [],
   "source": [
    "data = pd.read_csv(os.path.join(path,'unrestricted_hcp_freesurfer.csv'))\n",
    "data = data.drop(columns='Release')\n",
    "target = pd.read_csv(os.path.join(path,'unrestricted.csv'))\n",
    "full_train_names = np.load(os.path.join(path,'full_train_names.npy'))\n",
    "test_names = np.load(os.path.join(path,'test_names.npy'))\n",
    "train_names = np.load(os.path.join(path,'train_names.npy'))\n",
    "val_names = np.load(os.path.join(path,'val_names.npy'))\n",
    "\n",
    "gender_labeling = LabelEncoder()\n",
    "data['Gender'] = gender_labeling.fit_transform(data['Gender'])\n",
    "\n",
    "# Separation into 4 classes\n",
    "target['Age'] = np.where(target['Age'] == '22-25', 0, \n",
    "                         np.where(target['Age'] == '26-30', 1, \n",
    "                                  np.where(target['Age'] == '31-35', 2, 3)))\n",
    "\n",
    "# Formation of training, test and validation samples\n",
    "X_full_train, y_full_train, X_train, y_train, X_val, y_val, X_test, y_test = data_formation (full_train_names, train_names, val_names, test_names, data, target)"
   ]
  },
  {
   "cell_type": "markdown",
   "metadata": {
    "colab_type": "text",
    "id": "S5Y2CE-RUZGZ"
   },
   "source": [
    "#### Creating 3 class dataset"
   ]
  },
  {
   "cell_type": "code",
   "execution_count": 0,
   "metadata": {
    "colab": {},
    "colab_type": "code",
    "id": "mMHZMVFgGXgQ"
   },
   "outputs": [],
   "source": [
    "full_train_X, full_train_y, train_X, train_y, val_X, val_y = three_classes(X_full_train, y_full_train, X_train, y_train, X_val, y_val)"
   ]
  },
  {
   "cell_type": "markdown",
   "metadata": {
    "colab_type": "text",
    "id": "Q9agjNv2nWKw"
   },
   "source": [
    "### XGB classification"
   ]
  },
  {
   "cell_type": "markdown",
   "metadata": {
    "colab_type": "text",
    "id": "lIFRNyHBRBgP"
   },
   "source": [
    "#### GridSearch"
   ]
  },
  {
   "cell_type": "markdown",
   "metadata": {
    "colab_type": "text",
    "id": "1e4DE-rkVIKz"
   },
   "source": [
    "Selection of parameters using GridSearchCV on full_train set."
   ]
  },
  {
   "cell_type": "code",
   "execution_count": 19,
   "metadata": {
    "colab": {
     "base_uri": "https://localhost:8080/",
     "height": 403
    },
    "colab_type": "code",
    "id": "T7JZLtSinVsq",
    "outputId": "51bfb5f4-4710-4c4e-9272-62f07182d274"
   },
   "outputs": [
    {
     "data": {
      "text/plain": [
       "GridSearchCV(cv=StratifiedKFold(n_splits=5,\n",
       "        random_state=RandomState(MT19937) at 0x7F359E724EB8, shuffle=True),\n",
       "             error_score=nan,\n",
       "             estimator=GradientBoostingClassifier(ccp_alpha=0.0,\n",
       "                                                  criterion='friedman_mse',\n",
       "                                                  init=None, learning_rate=0.1,\n",
       "                                                  loss='deviance', max_depth=3,\n",
       "                                                  max_features=None,\n",
       "                                                  max_leaf_nodes=None,\n",
       "                                                  min_impurity_decrease=0.0,\n",
       "                                                  min_impurity_split=None,\n",
       "                                                  min_sam...\n",
       "                                                  presort='deprecated',\n",
       "                                                  random_state=RandomState(MT19937) at 0x7F359E724EB8,\n",
       "                                                  subsample=1.0, tol=0.0001,\n",
       "                                                  validation_fraction=0.1,\n",
       "                                                  verbose=0, warm_start=False),\n",
       "             iid='deprecated', n_jobs=-1,\n",
       "             param_grid={'learning_rate': array([0.1 , 0.15]),\n",
       "                         'loss': ('deviance', 'exponential'),\n",
       "                         'max_depth': range(5, 8)},\n",
       "             pre_dispatch='2*n_jobs', refit=True, return_train_score=False,\n",
       "             scoring='accuracy', verbose=0)"
      ]
     },
     "execution_count": 19,
     "metadata": {
      "tags": []
     },
     "output_type": "execute_result"
    }
   ],
   "source": [
    "parameters = {'loss':('deviance', 'exponential'), \n",
    "              'learning_rate': np.arange(0.1, 0.2, 0.05), \n",
    "              'max_depth': range(5, 8)\n",
    "              }\n",
    "gbc = GradientBoostingClassifier(random_state = rng)\n",
    "skf = StratifiedKFold(n_splits=5, random_state=rng, shuffle=True)\n",
    "clf = GridSearchCV(gbc, parameters, cv=skf, n_jobs=-1,\n",
    "                   verbose=0, scoring='accuracy')\n",
    "clf.fit(full_train_X, full_train_y)"
   ]
  },
  {
   "cell_type": "code",
   "execution_count": 20,
   "metadata": {
    "colab": {
     "base_uri": "https://localhost:8080/",
     "height": 34
    },
    "colab_type": "code",
    "id": "OvgVJSobxozc",
    "outputId": "f049842f-dd25-487d-b65e-ed6bb6c3ca92"
   },
   "outputs": [
    {
     "data": {
      "text/plain": [
       "{'learning_rate': 0.15000000000000002, 'loss': 'deviance', 'max_depth': 6}"
      ]
     },
     "execution_count": 20,
     "metadata": {
      "tags": []
     },
     "output_type": "execute_result"
    }
   ],
   "source": [
    "clf.best_params_"
   ]
  },
  {
   "cell_type": "code",
   "execution_count": 21,
   "metadata": {
    "colab": {
     "base_uri": "https://localhost:8080/",
     "height": 34
    },
    "colab_type": "code",
    "id": "QngEPEjwVbu9",
    "outputId": "cd39fb10-19e3-42df-eeb4-ba822697651b"
   },
   "outputs": [
    {
     "data": {
      "text/plain": [
       "0.47750000000000004"
      ]
     },
     "execution_count": 21,
     "metadata": {
      "tags": []
     },
     "output_type": "execute_result"
    }
   ],
   "source": [
    "clf.best_score_"
   ]
  },
  {
   "cell_type": "markdown",
   "metadata": {
    "colab_type": "text",
    "id": "O5kTg2FmRGp1"
   },
   "source": [
    "#### Validation Set"
   ]
  },
  {
   "cell_type": "code",
   "execution_count": 42,
   "metadata": {
    "colab": {
     "base_uri": "https://localhost:8080/",
     "height": 84
    },
    "colab_type": "code",
    "id": "QOTk_v5fRL4n",
    "outputId": "cedb5efa-9ad8-47f8-fe12-3756455abe77"
   },
   "outputs": [
    {
     "name": "stdout",
     "output_type": "stream",
     "text": [
      "learning_rate =  0.1\n",
      "max_depth =  5\n",
      "f1 score =  0.5151515151515151 \n",
      "\n"
     ]
    }
   ],
   "source": [
    "rocauc = []\n",
    "for i in np.arange(0.1, 0.2, 0.05):\n",
    "  for j in range(5, 8):\n",
    "      clf = GradientBoostingClassifier(learning_rate = i, max_depth= j, random_state=rng)\n",
    "      clf.fit(train_X, train_y)\n",
    "      y_pred = clf.predict(val_X)\n",
    "      f1 = f1_score(val_y, y_pred, average = 'micro')\n",
    "      rocauc.append(f1)\n",
    "      if f1>=0.48:\n",
    "          print('learning_rate = ', i)\n",
    "          print('max_depth = ', j)\n",
    "          print('f1 score = ', f1, '\\n')\n",
    "\n",
    "# plt.plot(np.arange(0.1, 0.2, 0.05), rocauc)\n",
    "# plt.xlabel('learning_rate')\n",
    "# plt.ylabel('F1 score')\n",
    "# plt.title('Quaity of Gradient Boosting Classifier depending on learning_rate')"
   ]
  },
  {
   "cell_type": "code",
   "execution_count": 51,
   "metadata": {
    "colab": {
     "base_uri": "https://localhost:8080/",
     "height": 185
    },
    "colab_type": "code",
    "id": "koqU6Fj4SJpJ",
    "outputId": "e93615e3-644c-4c84-886e-475f2c460872"
   },
   "outputs": [
    {
     "data": {
      "text/plain": [
       "GradientBoostingClassifier(ccp_alpha=0.0, criterion='friedman_mse', init=None,\n",
       "                           learning_rate=0.1, loss='deviance', max_depth=5,\n",
       "                           max_features=None, max_leaf_nodes=None,\n",
       "                           min_impurity_decrease=0.0, min_impurity_split=None,\n",
       "                           min_samples_leaf=1, min_samples_split=2,\n",
       "                           min_weight_fraction_leaf=0.0, n_estimators=100,\n",
       "                           n_iter_no_change=None, presort='deprecated',\n",
       "                           random_state=RandomState(MT19937) at 0x7F3592C53888,\n",
       "                           subsample=1.0, tol=0.0001, validation_fraction=0.1,\n",
       "                           verbose=0, warm_start=False)"
      ]
     },
     "execution_count": 51,
     "metadata": {
      "tags": []
     },
     "output_type": "execute_result"
    }
   ],
   "source": [
    "clf = GradientBoostingClassifier(learning_rate = 0.1, loss = 'deviance', max_depth = 5, random_state = rng)\n",
    "clf.fit(full_train_X, full_train_y)"
   ]
  },
  {
   "cell_type": "markdown",
   "metadata": {
    "colab_type": "text",
    "id": "tCXTTtO6r7QG"
   },
   "source": [
    "### KNN"
   ]
  },
  {
   "cell_type": "markdown",
   "metadata": {
    "colab_type": "text",
    "id": "-lO946u6apQO"
   },
   "source": [
    "####GridSearch"
   ]
  },
  {
   "cell_type": "code",
   "execution_count": 23,
   "metadata": {
    "colab": {
     "base_uri": "https://localhost:8080/",
     "height": 322
    },
    "colab_type": "code",
    "id": "qUkdGF3Pr-S0",
    "outputId": "da847623-a954-4caf-e494-4943debaad2e"
   },
   "outputs": [
    {
     "name": "stderr",
     "output_type": "stream",
     "text": [
      "/usr/local/lib/python3.6/dist-packages/sklearn/model_selection/_split.py:667: UserWarning: The least populated class in y has only 4 members, which is less than n_splits=5.\n",
      "  % (min_groups, self.n_splits)), UserWarning)\n"
     ]
    },
    {
     "data": {
      "text/plain": [
       "GridSearchCV(cv=StratifiedKFold(n_splits=5,\n",
       "        random_state=RandomState(MT19937) at 0x7F3592C53888, shuffle=True),\n",
       "             error_score=nan,\n",
       "             estimator=KNeighborsClassifier(algorithm='auto', leaf_size=30,\n",
       "                                            metric='minkowski',\n",
       "                                            metric_params=None, n_jobs=None,\n",
       "                                            n_neighbors=5, p=2,\n",
       "                                            weights='uniform'),\n",
       "             iid='deprecated', n_jobs=-1,\n",
       "             param_grid={'algorithm': ('auto', 'ball_tree', 'kd_tree', 'brute'),\n",
       "                         'leaf_size': [20, 30, 40],\n",
       "                         'n_neighbors': array([ 5,  7,  9, 11, 13, 15, 17, 19, 21, 23, 25, 27, 29, 31, 33, 35, 37,\n",
       "       39, 41, 43, 45, 47, 49, 51, 53, 55, 57, 59, 61, 63, 65, 67, 69])},\n",
       "             pre_dispatch='2*n_jobs', refit=True, return_train_score=False,\n",
       "             scoring='accuracy', verbose=0)"
      ]
     },
     "execution_count": 23,
     "metadata": {
      "tags": []
     },
     "output_type": "execute_result"
    }
   ],
   "source": [
    "rng = np.random.RandomState(42)\n",
    "from sklearn.neighbors import KNeighborsClassifier\n",
    "parameters = {'algorithm':('auto', 'ball_tree', 'kd_tree', 'brute'), \n",
    "              'n_neighbors': np.arange(5, 70, 2), \n",
    "              'leaf_size': [20, 30, 40]\n",
    "              }\n",
    "knn = KNeighborsClassifier()\n",
    "skf = StratifiedKFold(n_splits=5, random_state=rng, shuffle=True)\n",
    "knn_gr = GridSearchCV(knn, parameters, cv=skf, n_jobs=-1,\n",
    "                   verbose=0, scoring='accuracy')\n",
    "knn_gr.fit(X_train, y_train)"
   ]
  },
  {
   "cell_type": "code",
   "execution_count": 25,
   "metadata": {
    "colab": {
     "base_uri": "https://localhost:8080/",
     "height": 34
    },
    "colab_type": "code",
    "id": "gsjjkudIAO8z",
    "outputId": "c3fa6380-82ee-4ea5-ac12-ea8d833d9b2a"
   },
   "outputs": [
    {
     "data": {
      "text/plain": [
       "{'algorithm': 'auto', 'leaf_size': 20, 'n_neighbors': 59}"
      ]
     },
     "execution_count": 25,
     "metadata": {
      "tags": []
     },
     "output_type": "execute_result"
    }
   ],
   "source": [
    "knn_gr.best_params_"
   ]
  },
  {
   "cell_type": "code",
   "execution_count": 32,
   "metadata": {
    "colab": {
     "base_uri": "https://localhost:8080/",
     "height": 34
    },
    "colab_type": "code",
    "id": "lAOFRJh_Qq79",
    "outputId": "17ae4e32-8cb7-4fb5-82a3-d626f1ed10f2"
   },
   "outputs": [
    {
     "data": {
      "text/plain": [
       "0.46571428571428575"
      ]
     },
     "execution_count": 32,
     "metadata": {
      "tags": []
     },
     "output_type": "execute_result"
    }
   ],
   "source": [
    "knn_gr.best_score_"
   ]
  },
  {
   "cell_type": "markdown",
   "metadata": {
    "colab_type": "text",
    "id": "bQNvpjoZdBBi"
   },
   "source": [
    "#### Validation Set"
   ]
  },
  {
   "cell_type": "code",
   "execution_count": 50,
   "metadata": {
    "colab": {
     "base_uri": "https://localhost:8080/",
     "height": 218
    },
    "colab_type": "code",
    "id": "3QwtUv7EdEU7",
    "outputId": "ddd5a377-8464-4f4c-e13f-5e00a50b2388"
   },
   "outputs": [
    {
     "name": "stdout",
     "output_type": "stream",
     "text": [
      "leaf_size =  20\n",
      "n_neighbors =  59\n",
      "f1 score =  0.5151515151515151 \n",
      "\n",
      "leaf_size =  30\n",
      "n_neighbors =  59\n",
      "f1 score =  0.5151515151515151 \n",
      "\n",
      "leaf_size =  40\n",
      "n_neighbors =  59\n",
      "f1 score =  0.5151515151515151 \n",
      "\n"
     ]
    }
   ],
   "source": [
    "rocauc = []\n",
    "for i in [20, 30, 40]:\n",
    "  for j in np.arange(5, 70, 2):\n",
    "      knn = KNeighborsClassifier(leaf_size = i, n_neighbors= j)\n",
    "      knn.fit(train_X, train_y)\n",
    "      y_pred = knn.predict(val_X)\n",
    "      f1 = f1_score(val_y, y_pred, average = 'micro')\n",
    "      rocauc.append(f1)\n",
    "      if f1>=0.51:\n",
    "          print('leaf_size = ', i)\n",
    "          print('n_neighbors = ', j)\n",
    "          print('f1 score = ', f1, '\\n')"
   ]
  },
  {
   "cell_type": "code",
   "execution_count": 52,
   "metadata": {
    "colab": {
     "base_uri": "https://localhost:8080/",
     "height": 67
    },
    "colab_type": "code",
    "id": "RVsUGz5vd_rT",
    "outputId": "852aed63-a638-40b3-f7d2-a20b37f5b80b"
   },
   "outputs": [
    {
     "data": {
      "text/plain": [
       "KNeighborsClassifier(algorithm='auto', leaf_size=30, metric='minkowski',\n",
       "                     metric_params=None, n_jobs=None, n_neighbors=59, p=2,\n",
       "                     weights='uniform')"
      ]
     },
     "execution_count": 52,
     "metadata": {
      "tags": []
     },
     "output_type": "execute_result"
    }
   ],
   "source": [
    "knn = KNeighborsClassifier(n_neighbors= 59)\n",
    "knn.fit(full_train_X, full_train_y)"
   ]
  },
  {
   "cell_type": "markdown",
   "metadata": {
    "colab_type": "text",
    "id": "J6IeelXJrQtl"
   },
   "source": [
    "## The main classification function\n",
    "\n",
    "\n"
   ]
  },
  {
   "cell_type": "markdown",
   "metadata": {
    "colab_type": "text",
    "id": "wgmRM8B-eaxg"
   },
   "source": [
    "### XGB Classifire"
   ]
  },
  {
   "cell_type": "code",
   "execution_count": 0,
   "metadata": {
    "colab": {},
    "colab_type": "code",
    "id": "RNwtUFwgrcqS"
   },
   "outputs": [],
   "source": [
    "y_pred_first = anomaly.predict(X_test)\n",
    "y_pred_first[y_pred_first == -1] = 0\n",
    "age_36 = np.where(y_pred_first == 1)\n",
    "y_anomaly = np.ones(len(age_36))"
   ]
  },
  {
   "cell_type": "code",
   "execution_count": 0,
   "metadata": {
    "colab": {},
    "colab_type": "code",
    "id": "PYVnqyWJyuma"
   },
   "outputs": [],
   "source": [
    "X_test_new = np.delete(X_test, age_36, 0)\n",
    "y_pred_second = clf.predict(X_test_new)"
   ]
  },
  {
   "cell_type": "code",
   "execution_count": 55,
   "metadata": {
    "colab": {
     "base_uri": "https://localhost:8080/",
     "height": 34
    },
    "colab_type": "code",
    "id": "7SHqtx0BdTPA",
    "outputId": "b06bef98-3ab0-4302-d8d0-7164a79da8a1"
   },
   "outputs": [
    {
     "data": {
      "text/plain": [
       "(99,)"
      ]
     },
     "execution_count": 55,
     "metadata": {
      "tags": []
     },
     "output_type": "execute_result"
    }
   ],
   "source": [
    "y_pred = np.append(y_pred_second, y_anomaly)\n",
    "y_pred.shape"
   ]
  },
  {
   "cell_type": "code",
   "execution_count": 56,
   "metadata": {
    "colab": {
     "base_uri": "https://localhost:8080/",
     "height": 34
    },
    "colab_type": "code",
    "id": "1RgC4-gg-P4o",
    "outputId": "c0c7f4a9-aef2-4564-f43d-8a9a65b2dcf8"
   },
   "outputs": [
    {
     "data": {
      "text/plain": [
       "(99,)"
      ]
     },
     "execution_count": 56,
     "metadata": {
      "tags": []
     },
     "output_type": "execute_result"
    }
   ],
   "source": [
    "y_test = np.array(y_test)\n",
    "y_test_anomaly = y_test[age_36]\n",
    "y_test_new = np.delete(y_test, age_36, 0)\n",
    "y_test_new = np.append(y_test_new, y_test_anomaly)\n",
    "y_test_new.shape"
   ]
  },
  {
   "cell_type": "code",
   "execution_count": 57,
   "metadata": {
    "colab": {
     "base_uri": "https://localhost:8080/",
     "height": 34
    },
    "colab_type": "code",
    "id": "7gQXS3KdFUY_",
    "outputId": "a3858779-56af-45b6-96ff-672a233e8f37"
   },
   "outputs": [
    {
     "data": {
      "text/plain": [
       "0.48484848484848486"
      ]
     },
     "execution_count": 57,
     "metadata": {
      "tags": []
     },
     "output_type": "execute_result"
    }
   ],
   "source": [
    "f1_score(y_test_new, y_pred, average = 'micro')"
   ]
  },
  {
   "cell_type": "code",
   "execution_count": 58,
   "metadata": {
    "colab": {
     "base_uri": "https://localhost:8080/",
     "height": 903
    },
    "colab_type": "code",
    "id": "FwLTOiRlpQ2U",
    "outputId": "26db6285-0569-4b81-8c5b-420590f65f91"
   },
   "outputs": [
    {
     "name": "stdout",
     "output_type": "stream",
     "text": [
      "Feature ranking:\n",
      "FS_L_Transversetemporal_GrayVol\n",
      "FS_R_Putamen_Std\n",
      "FS_R_Lateralorbitofrontal_GrayVol\n",
      "FS_L_Isthmuscingulate_GrayVol\n",
      "FS_L_Superiorfrontal_Thck\n",
      "FS_CC_Anterior_Std\n",
      "FS_R_LatVent_Mean\n",
      "FS_R_Caudate_Std\n",
      "FS_L_Paracentral_NumVert\n",
      "FS_L_Cerebellum_Cort_Mean\n",
      "FS_R_Superiorfrontal_Thck\n",
      "FS_L_Frontalpole_GrayVol\n",
      "FS_R_Pallidum_Mean\n",
      "FS_L_Putamen_Std\n",
      "FS_L_Putamen_Mean\n",
      "FS_MaskVol_eTIV_Ratio\n",
      "FS_R_Insula_Thck\n",
      "FS_R_Parstriangularis_GrayVol\n",
      "FS_R_Isthmuscingulate_Thck\n",
      "FS_L_Precuneus_Area\n"
     ]
    },
    {
     "data": {
      "image/png": "[encoded data removed]",
      "text/plain": [
       "<Figure size 864x432 with 1 Axes>"
      ]
     },
     "metadata": {
      "tags": []
     },
     "output_type": "display_data"
    }
   ],
   "source": [
    "importances = clf.feature_importances_\n",
    "std = np.std([clf.feature_importances_ for t in clf.estimators_],\n",
    "             axis=0)\n",
    "indices = np.argsort(importances)[::-1]\n",
    "\n",
    "# Print the feature ranking\n",
    "print(\"Feature ranking:\")\n",
    "\n",
    "top_idx = []\n",
    "top_f = []\n",
    "for f in range(20):\n",
    "    print(data.columns[indices[f]])\n",
    "    top_idx.append(data.columns[indices[f]])\n",
    "    top_f.append(importances[indices[f]])\n",
    "\n",
    "# Plot the feature importances\n",
    "fig = plt.figure(figsize=(12, 6))\n",
    "# plt.figure()\n",
    "plt.title(\"The most important features in the classification into 4 groups\")\n",
    "plt.bar(range(20), top_f,\n",
    "       color=\"pink\",  align=\"center\") #yerr=std[indices],\n",
    "\n",
    "plt.xticks(range(20), top_idx, rotation = 90)\n",
    "plt.xlim([-1, 20])\n",
    "plt.show()"
   ]
  },
  {
   "cell_type": "markdown",
   "metadata": {
    "colab_type": "text",
    "id": "GppV_Y4RfD1K"
   },
   "source": [
    "### KNN"
   ]
  },
  {
   "cell_type": "code",
   "execution_count": 59,
   "metadata": {
    "colab": {
     "base_uri": "https://localhost:8080/",
     "height": 34
    },
    "colab_type": "code",
    "id": "gWEPMcas6RQS",
    "outputId": "0f410643-f5a6-4ac6-ae23-33e7a4103511"
   },
   "outputs": [
    {
     "data": {
      "text/plain": [
       "0.46464646464646464"
      ]
     },
     "execution_count": 59,
     "metadata": {
      "tags": []
     },
     "output_type": "execute_result"
    }
   ],
   "source": [
    "y_pred_first = anomaly.predict(X_test)\n",
    "y_pred_first[y_pred_first == -1] = 0\n",
    "age_36 = np.where(y_pred_first == 1)\n",
    "y_anomaly = np.ones(len(age_36))\n",
    "\n",
    "X_test_new = np.delete(X_test, age_36, 0)\n",
    "y_pred_second = knn.predict(X_test_new)\n",
    "\n",
    "y_pred = np.append(y_pred_second, y_anomaly)\n",
    "\n",
    "y_test = np.array(y_test)\n",
    "y_test_anomaly = y_test[age_36]\n",
    "y_test_new = np.delete(y_test, age_36, 0)\n",
    "y_test_new = np.append(y_test_new, y_test_anomaly)\n",
    "\n",
    "f1_score(y_test_new, y_pred, average = 'micro')"
   ]
  },
  {
   "cell_type": "code",
   "execution_count": 0,
   "metadata": {
    "colab": {},
    "colab_type": "code",
    "id": "_HJmeZKQfCH8"
   },
   "outputs": [],
   "source": []
  }
 ],
 "metadata": {
  "accelerator": "GPU",
  "colab": {
   "name": "Two_step_classifire.ipynb",
   "provenance": [],
   "toc_visible": true
  },
  "kernelspec": {
   "display_name": "Python 3",
   "language": "python",
   "name": "python3"
  },
  "language_info": {
   "codemirror_mode": {
    "name": "ipython",
    "version": 3
   },
   "file_extension": ".py",
   "mimetype": "text/x-python",
   "name": "python",
   "nbconvert_exporter": "python",
   "pygments_lexer": "ipython3",
   "version": "3.7.4"
  }
 },
 "nbformat": 4,
 "nbformat_minor": 1
}
